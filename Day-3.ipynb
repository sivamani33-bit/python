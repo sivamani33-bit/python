{
 "cells": [
  {
   "cell_type": "code",
   "execution_count": 1,
   "id": "e93c6655-4881-4b30-9c6c-348f47554c03",
   "metadata": {},
   "outputs": [
    {
     "data": {
      "text/plain": [
       "[23, 34, 45, 56, 67]"
      ]
     },
     "execution_count": 1,
     "metadata": {},
     "output_type": "execute_result"
    }
   ],
   "source": [
    "a=[23,34,45,56,67]\n",
    "a"
   ]
  },
  {
   "cell_type": "code",
   "execution_count": 3,
   "id": "124131b2-3e1b-467f-8c4f-6bf6216bae2d",
   "metadata": {},
   "outputs": [
    {
     "data": {
      "text/plain": [
       "list"
      ]
     },
     "execution_count": 3,
     "metadata": {},
     "output_type": "execute_result"
    }
   ],
   "source": [
    "type(a)"
   ]
  },
  {
   "cell_type": "code",
   "execution_count": 44,
   "id": "1025c7bb-26f7-41b7-9975-87a1f3cce339",
   "metadata": {},
   "outputs": [
    {
     "data": {
      "text/plain": [
       "[203, 'Hyderabad', 45, True, 'Mumbai', 78, 175, 34, 90]"
      ]
     },
     "execution_count": 44,
     "metadata": {},
     "output_type": "execute_result"
    }
   ],
   "source": [
    "c=[203,'Hyderabad',45,True,'Mumbai',78,175,34,90]\n",
    "c"
   ]
  },
  {
   "cell_type": "code",
   "execution_count": 46,
   "id": "8229c939-fcb0-4e34-9bd4-fabe161dee62",
   "metadata": {},
   "outputs": [
    {
     "data": {
      "text/plain": [
       "list"
      ]
     },
     "execution_count": 46,
     "metadata": {},
     "output_type": "execute_result"
    }
   ],
   "source": [
    "type(c)"
   ]
  },
  {
   "cell_type": "code",
   "execution_count": 48,
   "id": "205b66dc-e6fe-4d23-ac51-b08c712fd313",
   "metadata": {},
   "outputs": [
    {
     "data": {
      "text/plain": [
       "'Hyderabad'"
      ]
     },
     "execution_count": 48,
     "metadata": {},
     "output_type": "execute_result"
    }
   ],
   "source": [
    "c[1]"
   ]
  },
  {
   "cell_type": "code",
   "execution_count": 50,
   "id": "26180c8f-d67e-46b1-8d91-ba2225e91e56",
   "metadata": {},
   "outputs": [
    {
     "data": {
      "text/plain": [
       "True"
      ]
     },
     "execution_count": 50,
     "metadata": {},
     "output_type": "execute_result"
    }
   ],
   "source": [
    "c[3]"
   ]
  },
  {
   "cell_type": "code",
   "execution_count": 52,
   "id": "a4d91300-ef93-429c-8270-1b2179eb801a",
   "metadata": {},
   "outputs": [
    {
     "data": {
      "text/plain": [
       "[45, True, 'Mumbai']"
      ]
     },
     "execution_count": 52,
     "metadata": {},
     "output_type": "execute_result"
    }
   ],
   "source": [
    "c[2:5]"
   ]
  },
  {
   "cell_type": "code",
   "execution_count": 54,
   "id": "c876ca20-bf16-46e2-afcd-65da59978861",
   "metadata": {},
   "outputs": [
    {
     "data": {
      "text/plain": [
       "['Hyderabad', 45]"
      ]
     },
     "execution_count": 54,
     "metadata": {},
     "output_type": "execute_result"
    }
   ],
   "source": [
    "c[1:3]"
   ]
  },
  {
   "cell_type": "code",
   "execution_count": 56,
   "id": "16528a34-1b5d-4500-9932-92f961e74837",
   "metadata": {},
   "outputs": [
    {
     "data": {
      "text/plain": [
       "True"
      ]
     },
     "execution_count": 56,
     "metadata": {},
     "output_type": "execute_result"
    }
   ],
   "source": [
    "c[-6]"
   ]
  },
  {
   "cell_type": "code",
   "execution_count": 58,
   "id": "064fca6d-9d55-4a09-9dea-7f72b77a755b",
   "metadata": {},
   "outputs": [
    {
     "data": {
      "text/plain": [
       "[True, 'Mumbai', 78, 175]"
      ]
     },
     "execution_count": 58,
     "metadata": {},
     "output_type": "execute_result"
    }
   ],
   "source": [
    "c[-6:-2]"
   ]
  },
  {
   "cell_type": "code",
   "execution_count": 60,
   "id": "b7223366-ddba-46f7-a7c0-c38e356e235e",
   "metadata": {},
   "outputs": [
    {
     "data": {
      "text/plain": [
       "[45, True, 'Mumbai']"
      ]
     },
     "execution_count": 60,
     "metadata": {},
     "output_type": "execute_result"
    }
   ],
   "source": [
    "c[2:-4]"
   ]
  },
  {
   "cell_type": "code",
   "execution_count": 62,
   "id": "2daf4c30-18e7-40e2-936f-2c37e48b0425",
   "metadata": {},
   "outputs": [
    {
     "data": {
      "text/plain": [
       "[203, 'Hyderabad', 45, True, 'Mumbai', 78]"
      ]
     },
     "execution_count": 62,
     "metadata": {},
     "output_type": "execute_result"
    }
   ],
   "source": [
    "c[0:6]"
   ]
  },
  {
   "cell_type": "code",
   "execution_count": 64,
   "id": "428365a7-0460-468c-b701-b1532a795094",
   "metadata": {},
   "outputs": [
    {
     "data": {
      "text/plain": [
       "[203, 'Hyderabad', 45]"
      ]
     },
     "execution_count": 64,
     "metadata": {},
     "output_type": "execute_result"
    }
   ],
   "source": [
    "c[0:-6]"
   ]
  },
  {
   "cell_type": "code",
   "execution_count": 66,
   "id": "9c910e7a-0d83-4acb-8e02-b4ed18d2fbda",
   "metadata": {},
   "outputs": [
    {
     "data": {
      "text/plain": [
       "[203, 'Hyderabad', 45, True, 'Mumbai', 78]"
      ]
     },
     "execution_count": 66,
     "metadata": {},
     "output_type": "execute_result"
    }
   ],
   "source": [
    "c[0:6:1]"
   ]
  },
  {
   "cell_type": "code",
   "execution_count": 68,
   "id": "4a80ba27-5d7b-4d4b-9f63-f1f95a8e013c",
   "metadata": {},
   "outputs": [
    {
     "data": {
      "text/plain": [
       "[203, 45, 'Mumbai']"
      ]
     },
     "execution_count": 68,
     "metadata": {},
     "output_type": "execute_result"
    }
   ],
   "source": [
    "c[0:6:2]"
   ]
  },
  {
   "cell_type": "code",
   "execution_count": 70,
   "id": "c550e3f2-7040-46ee-9933-1f8ae80f289c",
   "metadata": {},
   "outputs": [
    {
     "data": {
      "text/plain": [
       "[True, 78, 34]"
      ]
     },
     "execution_count": 70,
     "metadata": {},
     "output_type": "execute_result"
    }
   ],
   "source": [
    "c[3:8:2]"
   ]
  },
  {
   "cell_type": "code",
   "execution_count": 72,
   "id": "18fdabc2-82eb-4c08-a31f-6aafdab4dc14",
   "metadata": {},
   "outputs": [
    {
     "data": {
      "text/plain": [
       "[True, 'Mumbai', 78, 175, 34]"
      ]
     },
     "execution_count": 72,
     "metadata": {},
     "output_type": "execute_result"
    }
   ],
   "source": [
    "c[3:8:1]"
   ]
  },
  {
   "cell_type": "code",
   "execution_count": 74,
   "id": "ad87c69b-b481-41c0-964d-4cbb657ceb60",
   "metadata": {},
   "outputs": [
    {
     "data": {
      "text/plain": [
       "['Hyderabad', 'Mumbai']"
      ]
     },
     "execution_count": 74,
     "metadata": {},
     "output_type": "execute_result"
    }
   ],
   "source": [
    "c[1:7:3]"
   ]
  },
  {
   "cell_type": "code",
   "execution_count": 80,
   "id": "cde81edc-3d23-4431-8aeb-6fa2ff577972",
   "metadata": {},
   "outputs": [
    {
     "data": {
      "text/plain": [
       "[34, 175, 78, 'Mumbai', True]"
      ]
     },
     "execution_count": 80,
     "metadata": {},
     "output_type": "execute_result"
    }
   ],
   "source": [
    "c[-2:2:-1]"
   ]
  },
  {
   "cell_type": "code",
   "execution_count": 17,
   "id": "28d4b2a6-93d7-4f7f-a06e-20c7cb6e08ad",
   "metadata": {},
   "outputs": [
    {
     "data": {
      "text/plain": [
       "[203, 'Hyderabad', 45, True, 'Mumbai', 78, 175, 34, 90]"
      ]
     },
     "execution_count": 17,
     "metadata": {},
     "output_type": "execute_result"
    }
   ],
   "source": [
    "m=[203,'Hyderabad',45,True,'Mumbai',78,175,34,90]\n",
    "m"
   ]
  },
  {
   "cell_type": "code",
   "execution_count": 19,
   "id": "373e2ddd-cf6f-4d2b-bfae-9cefa0e45fc3",
   "metadata": {},
   "outputs": [
    {
     "data": {
      "text/plain": [
       "[203, 'Hyderabad', 45, True, 'Mumbai', 78, 175, 34, 90, 90]"
      ]
     },
     "execution_count": 19,
     "metadata": {},
     "output_type": "execute_result"
    }
   ],
   "source": [
    "m.append(90)\n",
    "m"
   ]
  },
  {
   "cell_type": "code",
   "execution_count": 21,
   "id": "d8c658e0-7720-472e-bfe9-88ee7252fbf6",
   "metadata": {},
   "outputs": [
    {
     "data": {
      "text/plain": [
       "[203, 'Hyderabad', 45, True, 'Mumbai', 78, 175, 34, 90, 90, 'India']"
      ]
     },
     "execution_count": 21,
     "metadata": {},
     "output_type": "execute_result"
    }
   ],
   "source": [
    "m.append('India')\n",
    "m"
   ]
  },
  {
   "cell_type": "code",
   "execution_count": 23,
   "id": "b6d6732c-3b48-473b-97e8-5280b61f5425",
   "metadata": {},
   "outputs": [
    {
     "data": {
      "text/plain": [
       "[203, 'Hyderabad', 45, True, 'Mumbai', 78, 175, 34, 90, 90]"
      ]
     },
     "execution_count": 23,
     "metadata": {},
     "output_type": "execute_result"
    }
   ],
   "source": [
    "m.remove('India')\n",
    "m"
   ]
  },
  {
   "cell_type": "code",
   "execution_count": 25,
   "id": "5e3aac95-9b73-4b7a-b4cb-952a1b8e8904",
   "metadata": {},
   "outputs": [
    {
     "data": {
      "text/plain": [
       "[203, 'Hyderabad', 45, True, 'Mumbai', 78, 175, 34, 90]"
      ]
     },
     "execution_count": 25,
     "metadata": {},
     "output_type": "execute_result"
    }
   ],
   "source": [
    "m.pop(8)\n",
    "m"
   ]
  },
  {
   "cell_type": "code",
   "execution_count": 27,
   "id": "d1549189-ab4f-456c-ab09-a696f50925a3",
   "metadata": {},
   "outputs": [
    {
     "data": {
      "text/plain": [
       "list"
      ]
     },
     "execution_count": 27,
     "metadata": {},
     "output_type": "execute_result"
    }
   ],
   "source": [
    "type(m)"
   ]
  },
  {
   "cell_type": "code",
   "execution_count": 31,
   "id": "1f24e48a-1014-4c4b-8c4d-43369b90be1f",
   "metadata": {},
   "outputs": [
    {
     "data": {
      "text/plain": [
       "1"
      ]
     },
     "execution_count": 31,
     "metadata": {},
     "output_type": "execute_result"
    }
   ],
   "source": [
    "m.count(203)"
   ]
  },
  {
   "cell_type": "code",
   "execution_count": 33,
   "id": "5e4d97b3-afcc-418c-bf25-f48df061197d",
   "metadata": {},
   "outputs": [
    {
     "data": {
      "text/plain": [
       "[203, 'Hyderabad', 45, True, 'Mumbai', 78, 175, 34, 90]"
      ]
     },
     "execution_count": 33,
     "metadata": {},
     "output_type": "execute_result"
    }
   ],
   "source": [
    "m"
   ]
  },
  {
   "cell_type": "code",
   "execution_count": 35,
   "id": "000cdfef-ace6-40be-ac34-0d3806b7f75d",
   "metadata": {},
   "outputs": [
    {
     "data": {
      "text/plain": [
       "[203, 'Hyderabad', 45, True, 'Mumbai', 78, 175, 34, 90, 50, 60]"
      ]
     },
     "execution_count": 35,
     "metadata": {},
     "output_type": "execute_result"
    }
   ],
   "source": [
    "m.extend([50,60])\n",
    "m"
   ]
  },
  {
   "cell_type": "code",
   "execution_count": 39,
   "id": "bfcc4bd4-1e38-40cb-896e-f24528d56601",
   "metadata": {},
   "outputs": [
    {
     "data": {
      "text/plain": [
       "[2, 4, 6, 8]"
      ]
     },
     "execution_count": 39,
     "metadata": {},
     "output_type": "execute_result"
    }
   ],
   "source": [
    "d=[2,4,6,8]\n",
    "d"
   ]
  },
  {
   "cell_type": "code",
   "execution_count": 41,
   "id": "800aebb8-0b65-4d63-aedb-0a0a5366bb8a",
   "metadata": {},
   "outputs": [
    {
     "data": {
      "text/plain": [
       "[2, 4, 6, 8]"
      ]
     },
     "execution_count": 41,
     "metadata": {},
     "output_type": "execute_result"
    }
   ],
   "source": [
    "d"
   ]
  },
  {
   "cell_type": "code",
   "execution_count": 43,
   "id": "3bae9b81-62bf-4428-b099-224da75bec5b",
   "metadata": {},
   "outputs": [
    {
     "data": {
      "text/plain": [
       "[12, 34, 44, 56]"
      ]
     },
     "execution_count": 43,
     "metadata": {},
     "output_type": "execute_result"
    }
   ],
   "source": [
    "a=[12,34,44,56]\n",
    "a"
   ]
  },
  {
   "cell_type": "code",
   "execution_count": 45,
   "id": "3314d207-9bdc-48e8-aa50-2fbb74ed3e93",
   "metadata": {},
   "outputs": [
    {
     "data": {
      "text/plain": [
       "[2, 4, 6, 8, 12, 34, 44, 56]"
      ]
     },
     "execution_count": 45,
     "metadata": {},
     "output_type": "execute_result"
    }
   ],
   "source": [
    "d + a"
   ]
  },
  {
   "cell_type": "code",
   "execution_count": 47,
   "id": "47fb82d5-3cd1-4619-af09-7e97ddee1c51",
   "metadata": {},
   "outputs": [
    {
     "data": {
      "text/plain": [
       "[203, 'Hyderabad', True, 'Mumbai', 78, 175, 34, 90, 50, 60]"
      ]
     },
     "execution_count": 47,
     "metadata": {},
     "output_type": "execute_result"
    }
   ],
   "source": [
    "m.pop(2)\n",
    "m"
   ]
  },
  {
   "cell_type": "code",
   "execution_count": 49,
   "id": "ef2f844a-fc42-45f9-82f2-24fdca9bc581",
   "metadata": {},
   "outputs": [
    {
     "data": {
      "text/plain": [
       "[203, True, 'Mumbai', 78, 175, 34, 90, 50, 60]"
      ]
     },
     "execution_count": 49,
     "metadata": {},
     "output_type": "execute_result"
    }
   ],
   "source": [
    "m.pop(1)\n",
    "m"
   ]
  },
  {
   "cell_type": "code",
   "execution_count": null,
   "id": "6afe67a6-ce2b-45d1-81ae-209add60d1e1",
   "metadata": {},
   "outputs": [],
   "source": []
  }
 ],
 "metadata": {
  "kernelspec": {
   "display_name": "Python [conda env:base] *",
   "language": "python",
   "name": "conda-base-py"
  },
  "language_info": {
   "codemirror_mode": {
    "name": "ipython",
    "version": 3
   },
   "file_extension": ".py",
   "mimetype": "text/x-python",
   "name": "python",
   "nbconvert_exporter": "python",
   "pygments_lexer": "ipython3",
   "version": "3.12.7"
  }
 },
 "nbformat": 4,
 "nbformat_minor": 5
}
