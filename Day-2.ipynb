{
 "cells": [
  {
   "cell_type": "markdown",
   "id": "b65fc624-4202-4896-85db-7bb7190b9709",
   "metadata": {},
   "source": [
    "# addition  +\n",
    "# substraction  -\n",
    "# multiplication *\n",
    "# division /\n",
    "# modulus %\n",
    "# power **"
   ]
  },
  {
   "cell_type": "code",
   "execution_count": 3,
   "id": "ba7b0b86-859c-46f6-93ea-df4bfad63e3c",
   "metadata": {},
   "outputs": [
    {
     "data": {
      "text/plain": [
       "8"
      ]
     },
     "execution_count": 3,
     "metadata": {},
     "output_type": "execute_result"
    }
   ],
   "source": [
    "6+2"
   ]
  },
  {
   "cell_type": "code",
   "execution_count": 19,
   "id": "abf87cfe-62e1-428b-a37d-387b0200f88a",
   "metadata": {},
   "outputs": [
    {
     "data": {
      "text/plain": [
       "113"
      ]
     },
     "execution_count": 19,
     "metadata": {},
     "output_type": "execute_result"
    }
   ],
   "source": [
    "a=46\n",
    "b=67\n",
    "a+b"
   ]
  },
  {
   "cell_type": "code",
   "execution_count": 7,
   "id": "1ef42832-bfcb-4475-9fc9-7c1bd0a947e0",
   "metadata": {},
   "outputs": [
    {
     "data": {
      "text/plain": [
       "4096"
      ]
     },
     "execution_count": 7,
     "metadata": {},
     "output_type": "execute_result"
    }
   ],
   "source": [
    "a**b"
   ]
  },
  {
   "cell_type": "code",
   "execution_count": 9,
   "id": "3613b891-13d9-4e73-9e07-29d2d6318256",
   "metadata": {},
   "outputs": [
    {
     "data": {
      "text/plain": [
       "32768"
      ]
     },
     "execution_count": 9,
     "metadata": {},
     "output_type": "execute_result"
    }
   ],
   "source": [
    "8 ** 5"
   ]
  },
  {
   "cell_type": "code",
   "execution_count": 11,
   "id": "916ecdce-7fa1-44c7-93b5-13c0e8111d6e",
   "metadata": {},
   "outputs": [
    {
     "data": {
      "text/plain": [
       "2.5"
      ]
     },
     "execution_count": 11,
     "metadata": {},
     "output_type": "execute_result"
    }
   ],
   "source": [
    "10 / 4"
   ]
  },
  {
   "cell_type": "code",
   "execution_count": 13,
   "id": "05ecaaed-6b3d-44dc-8530-47d5ffcca8b7",
   "metadata": {},
   "outputs": [
    {
     "data": {
      "text/plain": [
       "11.3"
      ]
     },
     "execution_count": 13,
     "metadata": {},
     "output_type": "execute_result"
    }
   ],
   "source": [
    "45.2 / 4"
   ]
  },
  {
   "cell_type": "code",
   "execution_count": 15,
   "id": "224d17df-0112-4c88-9ff5-ea5dd3dfc691",
   "metadata": {},
   "outputs": [
    {
     "data": {
      "text/plain": [
       "0"
      ]
     },
     "execution_count": 15,
     "metadata": {},
     "output_type": "execute_result"
    }
   ],
   "source": [
    "32 % 2"
   ]
  },
  {
   "cell_type": "code",
   "execution_count": 17,
   "id": "34edc136-6ad0-4c65-b1b0-58638b8e18f7",
   "metadata": {},
   "outputs": [
    {
     "data": {
      "text/plain": [
       "14"
      ]
     },
     "execution_count": 17,
     "metadata": {},
     "output_type": "execute_result"
    }
   ],
   "source": [
    "43 // 3"
   ]
  },
  {
   "cell_type": "markdown",
   "id": "d0b2547e-c882-4349-a865-4b8f3c0e1bba",
   "metadata": {},
   "source": [
    "> <>= <= == !="
   ]
  },
  {
   "cell_type": "code",
   "execution_count": 22,
   "id": "7f4d8fb2-c77f-4abb-b8b0-db54ba8fbd27",
   "metadata": {},
   "outputs": [
    {
     "data": {
      "text/plain": [
       "True"
      ]
     },
     "execution_count": 22,
     "metadata": {},
     "output_type": "execute_result"
    }
   ],
   "source": [
    "a<b"
   ]
  },
  {
   "cell_type": "code",
   "execution_count": 24,
   "id": "346d1709-d6d0-42fe-b39b-f39b7858a356",
   "metadata": {},
   "outputs": [
    {
     "data": {
      "text/plain": [
       "False"
      ]
     },
     "execution_count": 24,
     "metadata": {},
     "output_type": "execute_result"
    }
   ],
   "source": [
    "a == 10"
   ]
  },
  {
   "cell_type": "code",
   "execution_count": 26,
   "id": "d09785fd-bbbc-43fe-bdad-e8959cad8601",
   "metadata": {},
   "outputs": [
    {
     "data": {
      "text/plain": [
       "False"
      ]
     },
     "execution_count": 26,
     "metadata": {},
     "output_type": "execute_result"
    }
   ],
   "source": [
    "a>b"
   ]
  },
  {
   "cell_type": "code",
   "execution_count": 30,
   "id": "426446ac-2473-4dbe-831b-f955196650ad",
   "metadata": {},
   "outputs": [
    {
     "data": {
      "text/plain": [
       "True"
      ]
     },
     "execution_count": 30,
     "metadata": {},
     "output_type": "execute_result"
    }
   ],
   "source": [
    "a >= b"
   ]
  },
  {
   "cell_type": "code",
   "execution_count": 32,
   "id": "31eec027-162a-46b5-adce-3291e3bc0bec",
   "metadata": {},
   "outputs": [
    {
     "data": {
      "text/plain": [
       "True"
      ]
     },
     "execution_count": 32,
     "metadata": {},
     "output_type": "execute_result"
    }
   ],
   "source": [
    "a <= b"
   ]
  },
  {
   "cell_type": "code",
   "execution_count": 34,
   "id": "05f4cbab-06dc-4107-b148-8ad957fb31c8",
   "metadata": {},
   "outputs": [
    {
     "data": {
      "text/plain": [
       "False"
      ]
     },
     "execution_count": 34,
     "metadata": {},
     "output_type": "execute_result"
    }
   ],
   "source": [
    "a != b"
   ]
  },
  {
   "cell_type": "code",
   "execution_count": 66,
   "id": "b40827f0-823e-4854-aa3d-efac9d3a2ba0",
   "metadata": {},
   "outputs": [
    {
     "data": {
      "text/plain": [
       "50"
      ]
     },
     "execution_count": 66,
     "metadata": {},
     "output_type": "execute_result"
    }
   ],
   "source": [
    "a=50\n",
    "a"
   ]
  },
  {
   "cell_type": "code",
   "execution_count": 68,
   "id": "02f11830-2f85-41a8-8869-6658fe9844f4",
   "metadata": {},
   "outputs": [
    {
     "data": {
      "text/plain": [
       "45"
      ]
     },
     "execution_count": 68,
     "metadata": {},
     "output_type": "execute_result"
    }
   ],
   "source": [
    "b=45\n",
    "b"
   ]
  },
  {
   "cell_type": "code",
   "execution_count": null,
   "id": "739616a2-1d48-4b4e-ba37-76da7227005d",
   "metadata": {},
   "outputs": [],
   "source": [
    "# logical operators"
   ]
  },
  {
   "cell_type": "markdown",
   "id": "21188022-9b2d-4e43-aa97-79687dafdde6",
   "metadata": {},
   "source": [
    "and \n",
    "or\n",
    "not"
   ]
  },
  {
   "cell_type": "code",
   "execution_count": 70,
   "id": "653ee1ed-38a2-425e-90f6-67b193d5be9f",
   "metadata": {},
   "outputs": [
    {
     "data": {
      "text/plain": [
       "True"
      ]
     },
     "execution_count": 70,
     "metadata": {},
     "output_type": "execute_result"
    }
   ],
   "source": [
    "a>b"
   ]
  },
  {
   "cell_type": "code",
   "execution_count": 72,
   "id": "7c29b389-d3de-4fb0-b2c5-27e382c90a78",
   "metadata": {},
   "outputs": [
    {
     "data": {
      "text/plain": [
       "False"
      ]
     },
     "execution_count": 72,
     "metadata": {},
     "output_type": "execute_result"
    }
   ],
   "source": [
    "a<b"
   ]
  },
  {
   "cell_type": "code",
   "execution_count": 74,
   "id": "dc1986d4-d5e9-40a4-a19f-94fe060eabaa",
   "metadata": {},
   "outputs": [
    {
     "data": {
      "text/plain": [
       "False"
      ]
     },
     "execution_count": 74,
     "metadata": {},
     "output_type": "execute_result"
    }
   ],
   "source": [
    "a>100"
   ]
  },
  {
   "cell_type": "code",
   "execution_count": 76,
   "id": "16c33f57-cc75-43a4-8ed6-80aa29e609be",
   "metadata": {},
   "outputs": [
    {
     "data": {
      "text/plain": [
       "False"
      ]
     },
     "execution_count": 76,
     "metadata": {},
     "output_type": "execute_result"
    }
   ],
   "source": [
    "(a>b) and (a>100)"
   ]
  },
  {
   "cell_type": "code",
   "execution_count": 78,
   "id": "d1c829c3-6646-40ff-b061-98c95df518a4",
   "metadata": {},
   "outputs": [
    {
     "data": {
      "text/plain": [
       "True"
      ]
     },
     "execution_count": 78,
     "metadata": {},
     "output_type": "execute_result"
    }
   ],
   "source": [
    "(a>b) or (a>100)"
   ]
  },
  {
   "cell_type": "code",
   "execution_count": null,
   "id": "6a756205-509a-4631-97c9-34af22f068c2",
   "metadata": {},
   "outputs": [],
   "source": [
    "True and True   --- True\n",
    "False and False --- False\n",
    "False and True  --- False\n",
    "True and False  --- False"
   ]
  },
  {
   "cell_type": "code",
   "execution_count": null,
   "id": "b29eba0b-c096-4c60-a872-b01e06b75354",
   "metadata": {},
   "outputs": [],
   "source": [
    "True or True   --- True\n",
    "False or False --- False\n",
    "False or True  --- True\n",
    "True or False  --- True"
   ]
  },
  {
   "cell_type": "code",
   "execution_count": 105,
   "id": "dcba5235-6e31-4162-92b5-1fffd0f67e83",
   "metadata": {},
   "outputs": [],
   "source": [
    "# q1\n",
    "x=34.56\n",
    "y=3.5\n",
    "\n",
    "# all arithmatic operators\n",
    "# all comparison operators\n",
    "# and or"
   ]
  },
  {
   "cell_type": "code",
   "execution_count": 107,
   "id": "668bb053-1ba7-4731-b28a-a42cf741b15d",
   "metadata": {},
   "outputs": [
    {
     "data": {
      "text/plain": [
       "True"
      ]
     },
     "execution_count": 107,
     "metadata": {},
     "output_type": "execute_result"
    }
   ],
   "source": [
    "z = x>y\n",
    "z\n"
   ]
  },
  {
   "cell_type": "code",
   "execution_count": 109,
   "id": "cdd30191-820f-4550-a152-f5dc6e8d7ed0",
   "metadata": {},
   "outputs": [
    {
     "data": {
      "text/plain": [
       "38.06"
      ]
     },
     "execution_count": 109,
     "metadata": {},
     "output_type": "execute_result"
    }
   ],
   "source": [
    "s=x+y\n",
    "s"
   ]
  },
  {
   "cell_type": "code",
   "execution_count": null,
   "id": "4f99e7ba-532d-4a39-b6a9-ee21360d520c",
   "metadata": {},
   "outputs": [],
   "source": []
  },
  {
   "cell_type": "code",
   "execution_count": null,
   "id": "c5eefdae-ffd8-4920-bffc-b3883761c179",
   "metadata": {},
   "outputs": [],
   "source": []
  },
  {
   "cell_type": "code",
   "execution_count": null,
   "id": "7370b9fd-e783-43e5-903f-26f1036ae741",
   "metadata": {},
   "outputs": [],
   "source": []
  }
 ],
 "metadata": {
  "kernelspec": {
   "display_name": "Python [conda env:base] *",
   "language": "python",
   "name": "conda-base-py"
  },
  "language_info": {
   "codemirror_mode": {
    "name": "ipython",
    "version": 3
   },
   "file_extension": ".py",
   "mimetype": "text/x-python",
   "name": "python",
   "nbconvert_exporter": "python",
   "pygments_lexer": "ipython3",
   "version": "3.12.7"
  }
 },
 "nbformat": 4,
 "nbformat_minor": 5
}
