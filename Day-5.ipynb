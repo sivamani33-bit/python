{
 "cells": [
  {
   "cell_type": "code",
   "execution_count": 13,
   "id": "c60b26e4-a88a-4015-b7da-825c02e9c73a",
   "metadata": {},
   "outputs": [
    {
     "data": {
      "text/plain": [
       "{101: 4, 102: 7, 'B': 2}"
      ]
     },
     "execution_count": 13,
     "metadata": {},
     "output_type": "execute_result"
    }
   ],
   "source": [
    "d={101: 4,102: 7, 'B':2}\n",
    "d"
   ]
  },
  {
   "cell_type": "code",
   "execution_count": 15,
   "id": "5ae087cb-515d-4420-a959-26d373c0a6ca",
   "metadata": {},
   "outputs": [
    {
     "data": {
      "text/plain": [
       "7"
      ]
     },
     "execution_count": 15,
     "metadata": {},
     "output_type": "execute_result"
    }
   ],
   "source": [
    "d[102]"
   ]
  },
  {
   "cell_type": "code",
   "execution_count": 31,
   "id": "e9b1fe0e-8754-4673-be9c-5cea98e0d803",
   "metadata": {},
   "outputs": [
    {
     "data": {
      "text/plain": [
       "2"
      ]
     },
     "execution_count": 31,
     "metadata": {},
     "output_type": "execute_result"
    }
   ],
   "source": [
    "d['B']"
   ]
  },
  {
   "cell_type": "code",
   "execution_count": 33,
   "id": "21245397-511c-4c48-b89e-c8517d73ddae",
   "metadata": {},
   "outputs": [
    {
     "data": {
      "text/plain": [
       "{101: 4, 102: 99, 'B': 2, 103: 44, 106: 500}"
      ]
     },
     "execution_count": 33,
     "metadata": {},
     "output_type": "execute_result"
    }
   ],
   "source": [
    "d.update({102:99})\n",
    "d"
   ]
  },
  {
   "cell_type": "code",
   "execution_count": 35,
   "id": "f09e1c72-561a-4370-8c9c-492602ce8577",
   "metadata": {},
   "outputs": [
    {
     "data": {
      "text/plain": [
       "{101: 4, 102: 99, 'B': 2, 103: 44, 106: 500}"
      ]
     },
     "execution_count": 35,
     "metadata": {},
     "output_type": "execute_result"
    }
   ],
   "source": [
    "d.update({103:44})\n",
    "d"
   ]
  },
  {
   "cell_type": "code",
   "execution_count": 37,
   "id": "2964b8f6-3bf8-4f28-95fa-66a6e5fdc90e",
   "metadata": {},
   "outputs": [
    {
     "data": {
      "text/plain": [
       "{101: 4, 102: 99, 'B': 2, 103: 44, 106: 500}"
      ]
     },
     "execution_count": 37,
     "metadata": {},
     "output_type": "execute_result"
    }
   ],
   "source": [
    "d[106]=500  #dict allows duplicate key\n",
    "d"
   ]
  },
  {
   "cell_type": "code",
   "execution_count": 56,
   "id": "9877936c-edf0-4b35-8667-c3f8f5eab73a",
   "metadata": {},
   "outputs": [
    {
     "data": {
      "text/plain": [
       "{101: 'India', 102: 'India', 'B': 2, 103: 44, 106: 'India'}"
      ]
     },
     "execution_count": 56,
     "metadata": {},
     "output_type": "execute_result"
    }
   ],
   "source": [
    "d"
   ]
  },
  {
   "cell_type": "code",
   "execution_count": 58,
   "id": "f65986b3-24f1-480e-bb26-aeb5a4ac8d4f",
   "metadata": {},
   "outputs": [
    {
     "data": {
      "text/plain": [
       "{101: 'India', 102: 'India', 'B': 2, 103: 44, 106: 'India'}"
      ]
     },
     "execution_count": 58,
     "metadata": {},
     "output_type": "execute_result"
    }
   ],
   "source": [
    "d.update({101:'India'})\n",
    "d"
   ]
  },
  {
   "cell_type": "code",
   "execution_count": 70,
   "id": "07eb6828-948e-479f-8542-b184b0d1f95f",
   "metadata": {},
   "outputs": [
    {
     "data": {
      "text/plain": [
       "{101: 'India', 102: 'India', 'B': 2, 103: 44, 106: 'India'}"
      ]
     },
     "execution_count": 70,
     "metadata": {},
     "output_type": "execute_result"
    }
   ],
   "source": [
    "d.update({106: 'India'})  # dict allows duplicate values\n",
    "d"
   ]
  },
  {
   "cell_type": "code",
   "execution_count": 72,
   "id": "56a6abe0-559c-4abb-a381-8cacbdf3d4ee",
   "metadata": {},
   "outputs": [
    {
     "data": {
      "text/plain": [
       "'India'"
      ]
     },
     "execution_count": 72,
     "metadata": {},
     "output_type": "execute_result"
    }
   ],
   "source": [
    "d.get(106)\n"
   ]
  },
  {
   "cell_type": "code",
   "execution_count": 78,
   "id": "4e7e6a5d-e713-42c9-9a22-bc3a950a1e56",
   "metadata": {},
   "outputs": [
    {
     "data": {
      "text/plain": [
       "{101: 'India', 103: 44, 106: 'India'}"
      ]
     },
     "execution_count": 78,
     "metadata": {},
     "output_type": "execute_result"
    }
   ],
   "source": [
    "del d['B']\n",
    "d"
   ]
  },
  {
   "cell_type": "code",
   "execution_count": 80,
   "id": "4f466045-0c66-4606-9a10-5e8d3ba67b41",
   "metadata": {},
   "outputs": [
    {
     "data": {
      "text/plain": [
       "{101: 'India', 103: 44, 106: 'India'}"
      ]
     },
     "execution_count": 80,
     "metadata": {},
     "output_type": "execute_result"
    }
   ],
   "source": [
    "d"
   ]
  },
  {
   "cell_type": "code",
   "execution_count": 82,
   "id": "7462f08b-962b-480f-b6a5-2dd6896f3360",
   "metadata": {},
   "outputs": [
    {
     "data": {
      "text/plain": [
       "{101: 'India', 103: 44, 106: 'India', 104: [1000, 5000, 6000, 7000]}"
      ]
     },
     "execution_count": 82,
     "metadata": {},
     "output_type": "execute_result"
    }
   ],
   "source": [
    "d[104]=[1000,5000,6000,7000]\n",
    "d"
   ]
  },
  {
   "cell_type": "code",
   "execution_count": 94,
   "id": "4e737711-a23f-4474-8a64-0672cdb926e7",
   "metadata": {},
   "outputs": [
    {
     "data": {
      "text/plain": [
       "44"
      ]
     },
     "execution_count": 94,
     "metadata": {},
     "output_type": "execute_result"
    }
   ],
   "source": [
    "d[103]"
   ]
  },
  {
   "cell_type": "code",
   "execution_count": 90,
   "id": "41f0928f-5ed3-414c-9c10-55fb440a3c15",
   "metadata": {},
   "outputs": [
    {
     "data": {
      "text/plain": [
       "int"
      ]
     },
     "execution_count": 90,
     "metadata": {},
     "output_type": "execute_result"
    }
   ],
   "source": [
    "type(103)"
   ]
  },
  {
   "cell_type": "code",
   "execution_count": 86,
   "id": "83cb3a40-80e3-44ba-b283-da963e7c8892",
   "metadata": {},
   "outputs": [
    {
     "data": {
      "text/plain": [
       "[1000, 5000, 6000, 7000]"
      ]
     },
     "execution_count": 86,
     "metadata": {},
     "output_type": "execute_result"
    }
   ],
   "source": [
    "d[104]"
   ]
  },
  {
   "cell_type": "code",
   "execution_count": 96,
   "id": "bc2a2262-9813-446b-8df6-890942e49711",
   "metadata": {},
   "outputs": [
    {
     "data": {
      "text/plain": [
       "dict"
      ]
     },
     "execution_count": 96,
     "metadata": {},
     "output_type": "execute_result"
    }
   ],
   "source": [
    "type(d)"
   ]
  },
  {
   "cell_type": "code",
   "execution_count": 100,
   "id": "f247f6c1-7722-40c3-a16f-609440013fc7",
   "metadata": {},
   "outputs": [
    {
     "data": {
      "text/plain": [
       "list"
      ]
     },
     "execution_count": 100,
     "metadata": {},
     "output_type": "execute_result"
    }
   ],
   "source": [
    "type(d[104])"
   ]
  },
  {
   "cell_type": "code",
   "execution_count": 102,
   "id": "6031bb27-1d5c-421a-9904-4439cbe67762",
   "metadata": {},
   "outputs": [
    {
     "data": {
      "text/plain": [
       "{101: 'India',\n",
       " 103: (30, 40, 50, 60, 70),\n",
       " 106: 'India',\n",
       " 104: [1000, 5000, 6000, 7000]}"
      ]
     },
     "execution_count": 102,
     "metadata": {},
     "output_type": "execute_result"
    }
   ],
   "source": [
    "d.update({103:(30,40,50,60,70)})\n",
    "d"
   ]
  },
  {
   "cell_type": "code",
   "execution_count": 104,
   "id": "05782588-7674-42fa-a764-d61b6e891923",
   "metadata": {},
   "outputs": [
    {
     "data": {
      "text/plain": [
       "40"
      ]
     },
     "execution_count": 104,
     "metadata": {},
     "output_type": "execute_result"
    }
   ],
   "source": [
    "d[103][1]"
   ]
  },
  {
   "cell_type": "code",
   "execution_count": 106,
   "id": "442cd530-e762-40d9-a2d9-9faa3c3e8373",
   "metadata": {},
   "outputs": [
    {
     "data": {
      "text/plain": [
       "{101: 'India',\n",
       " 103: (30, 40, 50, 60, 70),\n",
       " 106: 'India',\n",
       " 104: [1000, 5000, 6000, 7000, 56]}"
      ]
     },
     "execution_count": 106,
     "metadata": {},
     "output_type": "execute_result"
    }
   ],
   "source": [
    "d[104].append(56)\n",
    "d"
   ]
  },
  {
   "cell_type": "code",
   "execution_count": 108,
   "id": "8e30e0d0-65a9-47ba-a992-becd85658b03",
   "metadata": {},
   "outputs": [
    {
     "data": {
      "text/plain": [
       "list"
      ]
     },
     "execution_count": 108,
     "metadata": {},
     "output_type": "execute_result"
    }
   ],
   "source": [
    "type(d[104])"
   ]
  },
  {
   "cell_type": "code",
   "execution_count": 110,
   "id": "9864478d-edb7-4671-adab-2c578112291e",
   "metadata": {},
   "outputs": [
    {
     "data": {
      "text/plain": [
       "{101: 'India',\n",
       " 103: (30, 40, 50, 60, 70),\n",
       " 106: 'India',\n",
       " 104: [1000, 5000, 6000, 7000]}"
      ]
     },
     "execution_count": 110,
     "metadata": {},
     "output_type": "execute_result"
    }
   ],
   "source": [
    "d[104].remove(56)\n",
    "d"
   ]
  },
  {
   "cell_type": "code",
   "execution_count": 112,
   "id": "f2ee0a35-5a38-4ed5-aab7-af8f4102933a",
   "metadata": {},
   "outputs": [
    {
     "data": {
      "text/plain": [
       "{101: {50: [7, 8, 9, 10], 'apple': (20, 10, 70, [90, 180, 270])},\n",
       " 103: (30, 40, 50, 60, 70),\n",
       " 106: 'India',\n",
       " 104: [1000, 5000, 6000, 7000]}"
      ]
     },
     "execution_count": 112,
     "metadata": {},
     "output_type": "execute_result"
    }
   ],
   "source": [
    "d[101]={50:[7,8,9,10],'apple':(20,10,70,[90,180,270])}\n",
    "d"
   ]
  },
  {
   "cell_type": "code",
   "execution_count": 114,
   "id": "3c51683c-c8ad-44a0-be1b-bca497cde1eb",
   "metadata": {},
   "outputs": [
    {
     "data": {
      "text/plain": [
       "{101: {50: [7, 8, 9, 10], 'apple': (20, 10, 70, [90, 180, 270])},\n",
       " 103: (30, 40, 50, 60, 70),\n",
       " 106: 'India',\n",
       " 104: [1000, 5000, 6000, 7000],\n",
       " 105: {'a': {30, 50, 70},\n",
       "  'b': (1000, 5000, 7000, 9000),\n",
       "  'c': ['k', {'L': [11, 22], 'M': (77, 88)}, 'N']}}"
      ]
     },
     "execution_count": 114,
     "metadata": {},
     "output_type": "execute_result"
    }
   ],
   "source": [
    "d[105]={'a':{30,50,70},'b':(1000,5000,7000,9000),'c':['k',{'L':[11,22],'M':(77,88)},'N']}\n",
    "d"
   ]
  },
  {
   "cell_type": "code",
   "execution_count": 183,
   "id": "abd9f1ce-1826-4277-97a1-30fd2846cb5b",
   "metadata": {},
   "outputs": [
    {
     "data": {
      "text/plain": [
       "dict"
      ]
     },
     "execution_count": 183,
     "metadata": {},
     "output_type": "execute_result"
    }
   ],
   "source": [
    "type(d[101])"
   ]
  },
  {
   "cell_type": "code",
   "execution_count": 189,
   "id": "fe6ce1d7-8c42-45b4-8805-8fbb1942bb85",
   "metadata": {},
   "outputs": [
    {
     "data": {
      "text/plain": [
       "180"
      ]
     },
     "execution_count": 189,
     "metadata": {},
     "output_type": "execute_result"
    }
   ],
   "source": [
    "d[101]['apple'][3][1]"
   ]
  },
  {
   "cell_type": "code",
   "execution_count": 196,
   "id": "6fe144e0-551f-4bfa-8823-477a95f49d5c",
   "metadata": {},
   "outputs": [
    {
     "data": {
      "text/plain": [
       "88"
      ]
     },
     "execution_count": 196,
     "metadata": {},
     "output_type": "execute_result"
    }
   ],
   "source": [
    "d[105]['c'][1]['M'][1]"
   ]
  },
  {
   "cell_type": "code",
   "execution_count": null,
   "id": "9090f9e1-de0c-406f-b5f9-3af32232195f",
   "metadata": {},
   "outputs": [],
   "source": []
  }
 ],
 "metadata": {
  "kernelspec": {
   "display_name": "Python [conda env:base] *",
   "language": "python",
   "name": "conda-base-py"
  },
  "language_info": {
   "codemirror_mode": {
    "name": "ipython",
    "version": 3
   },
   "file_extension": ".py",
   "mimetype": "text/x-python",
   "name": "python",
   "nbconvert_exporter": "python",
   "pygments_lexer": "ipython3",
   "version": "3.12.7"
  }
 },
 "nbformat": 4,
 "nbformat_minor": 5
}
